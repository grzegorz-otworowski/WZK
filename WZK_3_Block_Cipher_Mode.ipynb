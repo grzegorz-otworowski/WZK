{
 "cells": [
  {
   "cell_type": "code",
   "execution_count": 6,
   "metadata": {},
   "outputs": [],
   "source": [
    "from Crypto.Cipher import AES\n",
    "from Crypto.Random import get_random_bytes\n",
    "from Crypto.Util import Counter\n",
    "import time\n",
    "def analyze_time(mode,s,m,b):\n",
    "    key = get_random_bytes(16)\n",
    "    if(mode!=\"ECB\") : iv = get_random_bytes(16)\n",
    "    if(mode==\"ECB\") : cipher = AES.new(key,AES.MODE_ECB)\n",
    "    elif(mode==\"CBC\") : cipher = AES.new(key,AES.MODE_CBC,iv)\n",
    "    elif(mode==\"OFB\") : cipher = AES.new(key,AES.MODE_OFB,iv)\n",
    "    elif(mode==\"CFB\") : cipher = AES.new(key,AES.MODE_CFB,iv)\n",
    "    elif(mode==\"CTR\") : cipher = AES.new(key,AES.MODE_CTR,counter=lambda: key)\n",
    "    print(\"\\tEncryption times:\")\n",
    "    \n",
    "    start = time.time()\n",
    "    if(mode==\"ECB\") : s_encrypted = cipher.encrypt(s)\n",
    "    elif(mode==\"CBC\") : s_encrypted = cipher.encrypt(s)\n",
    "    elif(mode==\"OFB\") : s_encrypted = cipher.encrypt(s)\n",
    "    elif(mode==\"CFB\") : s_encrypted = cipher.encrypt(s)\n",
    "    elif(mode==\"CTR\") : s_encrypted = cipher.encrypt(s)\n",
    "    end = time.time()\n",
    "    elapsed_time = end - start\n",
    "    print(\"\\t\\tS_E:\",elapsed_time)\n",
    "    \n",
    "    start = time.time()\n",
    "    if(mode==\"ECB\") : m_encrypted = cipher.encrypt(m)\n",
    "    elif(mode==\"CBC\") : m_encrypted = cipher.encrypt(m)\n",
    "    elif(mode==\"OFB\") : m_encrypted = cipher.encrypt(m)\n",
    "    elif(mode==\"CFB\") : m_encrypted = cipher.encrypt(m)\n",
    "    elif(mode==\"CTR\") : m_encrypted = cipher.encrypt(m)\n",
    "    end = time.time()\n",
    "    elapsed_time = end - start\n",
    "    print(\"\\t\\tM_E:\",elapsed_time)\n",
    "    \n",
    "    start = time.time()\n",
    "    if(mode==\"ECB\") : b_encrypted = cipher.encrypt(b)\n",
    "    elif(mode==\"CBC\") : b_encrypted = cipher.encrypt(b)\n",
    "    elif(mode==\"OFB\") : b_encrypted = cipher.encrypt(b)\n",
    "    elif(mode==\"CFB\") : b_encrypted = cipher.encrypt(b)\n",
    "    elif(mode==\"CTR\") : b_encrypted = cipher.encrypt(b)\n",
    "    end = time.time()\n",
    "    elapsed_time = end - start\n",
    "    print(\"\\t\\tB_E:\",elapsed_time)\n",
    "    \n",
    "    print(\"\\tDecryption times:\")\n",
    "    \n",
    "    start = time.time()\n",
    "    if(mode==\"ECB\") : s_decrypted = cipher.decrypt(s_encrypted)\n",
    "    elif(mode==\"CBC\") : s_decrypted = cipher.decrypt(s_encrypted)\n",
    "    elif(mode==\"OFB\") : s_decrypted = cipher.decrypt(s_encrypted)\n",
    "    elif(mode==\"CFB\") : s_decrypted = cipher.decrypt(s_encrypted)\n",
    "    elif(mode==\"CTR\") : s_decrypted = cipher.decrypt(s_encrypted)\n",
    "    end = time.time()\n",
    "    elapsed_time = end - start\n",
    "    print(\"\\t\\tS_D:\",elapsed_time)\n",
    "    \n",
    "    start = time.time()\n",
    "    if(mode==\"ECB\") : m_decrypted = cipher.decrypt(m_encrypted)\n",
    "    elif(mode==\"CBC\") : m_decrypted = cipher.decrypt(m_encrypted)\n",
    "    elif(mode==\"OFB\") : m_decrypted = cipher.decrypt(m_encrypted)\n",
    "    elif(mode==\"CFB\") : m_decrypted = cipher.decrypt(m_encrypted)\n",
    "    elif(mode==\"CTR\") : m_decrypted = cipher.decrypt(m_encrypted)\n",
    "    end = time.time()\n",
    "    elapsed_time = end - start\n",
    "    print(\"\\t\\tM_D:\",elapsed_time)\n",
    "    \n",
    "    start = time.time()\n",
    "    if(mode==\"ECB\") : b_decrypted = cipher.decrypt(b_encrypted)\n",
    "    elif(mode==\"CBC\") : b_decrypted = cipher.decrypt(b_encrypted)\n",
    "    elif(mode==\"OFB\") : b_decrypted = cipher.decrypt(b_encrypted)\n",
    "    elif(mode==\"CFB\") : b_decrypted = cipher.decrypt(b_encrypted)\n",
    "    elif(mode==\"CTR\") : b_decrypted = cipher.decrypt(b_encrypted)\n",
    "    end = time.time()\n",
    "    elapsed_time = end - start\n",
    "    print(\"\\t\\tB_D:\",elapsed_time)"
   ]
  },
  {
   "cell_type": "code",
   "execution_count": 9,
   "metadata": {},
   "outputs": [],
   "source": [
    "s = get_random_bytes(2 * MB)\n",
    "m = get_random_bytes(200 * MB) \n",
    "b = get_random_bytes(400 * MB)"
   ]
  },
  {
   "cell_type": "code",
   "execution_count": 10,
   "metadata": {},
   "outputs": [
    {
     "name": "stdout",
     "output_type": "stream",
     "text": [
      "ECB elapsed time:\n",
      "\tEncryption times:\n",
      "\t\tS_E: 0.007977724075317383\n",
      "\t\tM_E: 0.6806850433349609\n",
      "\t\tB_E: 1.3648667335510254\n",
      "\tDecryption times:\n",
      "\t\tS_D: 0.0069811344146728516\n",
      "\t\tM_D: 0.687678337097168\n",
      "\t\tB_D: 1.381331443786621\n",
      "CBC elapsed time:\n"
     ]
    },
    {
     "ename": "TypeError",
     "evalue": "a bytes-like object is required, not 'NoneType'",
     "output_type": "error",
     "traceback": [
      "\u001b[1;31m---------------------------------------------------------------------------\u001b[0m",
      "\u001b[1;31mTypeError\u001b[0m                                 Traceback (most recent call last)",
      "\u001b[1;32m<ipython-input-10-44ed010c3128>\u001b[0m in \u001b[0;36m<module>\u001b[1;34m\u001b[0m\n\u001b[0;32m      8\u001b[0m \u001b[0manalyze_time\u001b[0m\u001b[1;33m(\u001b[0m\u001b[1;34m\"ECB\"\u001b[0m\u001b[1;33m,\u001b[0m\u001b[0ms\u001b[0m\u001b[1;33m,\u001b[0m\u001b[0mm\u001b[0m\u001b[1;33m,\u001b[0m\u001b[0mb\u001b[0m\u001b[1;33m)\u001b[0m\u001b[1;33m\u001b[0m\u001b[1;33m\u001b[0m\u001b[0m\n\u001b[0;32m      9\u001b[0m \u001b[0mprint\u001b[0m\u001b[1;33m(\u001b[0m\u001b[1;34m\"CBC elapsed time:\"\u001b[0m\u001b[1;33m)\u001b[0m\u001b[1;33m\u001b[0m\u001b[1;33m\u001b[0m\u001b[0m\n\u001b[1;32m---> 10\u001b[1;33m \u001b[0manalyze_time\u001b[0m\u001b[1;33m(\u001b[0m\u001b[1;34m\"CBC\"\u001b[0m\u001b[1;33m,\u001b[0m\u001b[0ms\u001b[0m\u001b[1;33m,\u001b[0m\u001b[0mm\u001b[0m\u001b[1;33m,\u001b[0m\u001b[0mb\u001b[0m\u001b[1;33m)\u001b[0m\u001b[1;33m\u001b[0m\u001b[1;33m\u001b[0m\u001b[0m\n\u001b[0m\u001b[0;32m     11\u001b[0m \u001b[0mprint\u001b[0m\u001b[1;33m(\u001b[0m\u001b[1;34m\"OFB elapsed time:\"\u001b[0m\u001b[1;33m)\u001b[0m\u001b[1;33m\u001b[0m\u001b[1;33m\u001b[0m\u001b[0m\n\u001b[0;32m     12\u001b[0m \u001b[0manalyze_time\u001b[0m\u001b[1;33m(\u001b[0m\u001b[1;34m\"OFB\"\u001b[0m\u001b[1;33m,\u001b[0m\u001b[0ms\u001b[0m\u001b[1;33m,\u001b[0m\u001b[0mm\u001b[0m\u001b[1;33m,\u001b[0m\u001b[0mb\u001b[0m\u001b[1;33m)\u001b[0m\u001b[1;33m\u001b[0m\u001b[1;33m\u001b[0m\u001b[0m\n",
      "\u001b[1;32m<ipython-input-6-1eafc5fc1d06>\u001b[0m in \u001b[0;36manalyze_time\u001b[1;34m(mode, s, m, b)\u001b[0m\n\u001b[0;32m      7\u001b[0m     \u001b[1;32mif\u001b[0m\u001b[1;33m(\u001b[0m\u001b[0mmode\u001b[0m\u001b[1;33m!=\u001b[0m\u001b[1;34m\"ECB\"\u001b[0m\u001b[1;33m)\u001b[0m \u001b[1;33m:\u001b[0m \u001b[0miv\u001b[0m \u001b[1;33m=\u001b[0m \u001b[1;32mNone\u001b[0m\u001b[1;33m\u001b[0m\u001b[1;33m\u001b[0m\u001b[0m\n\u001b[0;32m      8\u001b[0m     \u001b[1;32mif\u001b[0m\u001b[1;33m(\u001b[0m\u001b[0mmode\u001b[0m\u001b[1;33m==\u001b[0m\u001b[1;34m\"ECB\"\u001b[0m\u001b[1;33m)\u001b[0m \u001b[1;33m:\u001b[0m \u001b[0mcipher\u001b[0m \u001b[1;33m=\u001b[0m \u001b[0mAES\u001b[0m\u001b[1;33m.\u001b[0m\u001b[0mnew\u001b[0m\u001b[1;33m(\u001b[0m\u001b[0mkey\u001b[0m\u001b[1;33m,\u001b[0m\u001b[0mAES\u001b[0m\u001b[1;33m.\u001b[0m\u001b[0mMODE_ECB\u001b[0m\u001b[1;33m)\u001b[0m\u001b[1;33m\u001b[0m\u001b[1;33m\u001b[0m\u001b[0m\n\u001b[1;32m----> 9\u001b[1;33m     \u001b[1;32melif\u001b[0m\u001b[1;33m(\u001b[0m\u001b[0mmode\u001b[0m\u001b[1;33m==\u001b[0m\u001b[1;34m\"CBC\"\u001b[0m\u001b[1;33m)\u001b[0m \u001b[1;33m:\u001b[0m \u001b[0mcipher\u001b[0m \u001b[1;33m=\u001b[0m \u001b[0mAES\u001b[0m\u001b[1;33m.\u001b[0m\u001b[0mnew\u001b[0m\u001b[1;33m(\u001b[0m\u001b[0mkey\u001b[0m\u001b[1;33m,\u001b[0m\u001b[0mAES\u001b[0m\u001b[1;33m.\u001b[0m\u001b[0mMODE_CBC\u001b[0m\u001b[1;33m,\u001b[0m\u001b[0miv\u001b[0m\u001b[1;33m)\u001b[0m\u001b[1;33m\u001b[0m\u001b[1;33m\u001b[0m\u001b[0m\n\u001b[0m\u001b[0;32m     10\u001b[0m     \u001b[1;32melif\u001b[0m\u001b[1;33m(\u001b[0m\u001b[0mmode\u001b[0m\u001b[1;33m==\u001b[0m\u001b[1;34m\"OFB\"\u001b[0m\u001b[1;33m)\u001b[0m \u001b[1;33m:\u001b[0m \u001b[0mcipher\u001b[0m \u001b[1;33m=\u001b[0m \u001b[0mAES\u001b[0m\u001b[1;33m.\u001b[0m\u001b[0mnew\u001b[0m\u001b[1;33m(\u001b[0m\u001b[0mkey\u001b[0m\u001b[1;33m,\u001b[0m\u001b[0mAES\u001b[0m\u001b[1;33m.\u001b[0m\u001b[0mMODE_OFB\u001b[0m\u001b[1;33m,\u001b[0m\u001b[0miv\u001b[0m\u001b[1;33m)\u001b[0m\u001b[1;33m\u001b[0m\u001b[1;33m\u001b[0m\u001b[0m\n\u001b[0;32m     11\u001b[0m     \u001b[1;32melif\u001b[0m\u001b[1;33m(\u001b[0m\u001b[0mmode\u001b[0m\u001b[1;33m==\u001b[0m\u001b[1;34m\"CFB\"\u001b[0m\u001b[1;33m)\u001b[0m \u001b[1;33m:\u001b[0m \u001b[0mcipher\u001b[0m \u001b[1;33m=\u001b[0m \u001b[0mAES\u001b[0m\u001b[1;33m.\u001b[0m\u001b[0mnew\u001b[0m\u001b[1;33m(\u001b[0m\u001b[0mkey\u001b[0m\u001b[1;33m,\u001b[0m\u001b[0mAES\u001b[0m\u001b[1;33m.\u001b[0m\u001b[0mMODE_CFB\u001b[0m\u001b[1;33m,\u001b[0m\u001b[0miv\u001b[0m\u001b[1;33m)\u001b[0m\u001b[1;33m\u001b[0m\u001b[1;33m\u001b[0m\u001b[0m\n",
      "\u001b[1;32mF:\\Anaconda\\lib\\site-packages\\Crypto\\Cipher\\AES.py\u001b[0m in \u001b[0;36mnew\u001b[1;34m(key, *args, **kwargs)\u001b[0m\n\u001b[0;32m     92\u001b[0m     \u001b[1;33m:\u001b[0m\u001b[0mReturn\u001b[0m\u001b[1;33m:\u001b[0m \u001b[0man\u001b[0m\u001b[0;31m \u001b[0m\u001b[0;31m`\u001b[0m\u001b[0mAESCipher\u001b[0m\u001b[0;31m`\u001b[0m \u001b[0mobject\u001b[0m\u001b[1;33m\u001b[0m\u001b[1;33m\u001b[0m\u001b[0m\n\u001b[0;32m     93\u001b[0m     \"\"\"\n\u001b[1;32m---> 94\u001b[1;33m     \u001b[1;32mreturn\u001b[0m \u001b[0mAESCipher\u001b[0m\u001b[1;33m(\u001b[0m\u001b[0mkey\u001b[0m\u001b[1;33m,\u001b[0m \u001b[1;33m*\u001b[0m\u001b[0margs\u001b[0m\u001b[1;33m,\u001b[0m \u001b[1;33m**\u001b[0m\u001b[0mkwargs\u001b[0m\u001b[1;33m)\u001b[0m\u001b[1;33m\u001b[0m\u001b[1;33m\u001b[0m\u001b[0m\n\u001b[0m\u001b[0;32m     95\u001b[0m \u001b[1;33m\u001b[0m\u001b[0m\n\u001b[0;32m     96\u001b[0m \u001b[1;31m#: Electronic Code Book (ECB). See `blockalgo.MODE_ECB`.\u001b[0m\u001b[1;33m\u001b[0m\u001b[1;33m\u001b[0m\u001b[1;33m\u001b[0m\u001b[0m\n",
      "\u001b[1;32mF:\\Anaconda\\lib\\site-packages\\Crypto\\Cipher\\AES.py\u001b[0m in \u001b[0;36m__init__\u001b[1;34m(self, key, *args, **kwargs)\u001b[0m\n\u001b[0;32m     57\u001b[0m \u001b[1;33m\u001b[0m\u001b[0m\n\u001b[0;32m     58\u001b[0m         See also `new()` at the module level.\"\"\"\n\u001b[1;32m---> 59\u001b[1;33m         \u001b[0mblockalgo\u001b[0m\u001b[1;33m.\u001b[0m\u001b[0mBlockAlgo\u001b[0m\u001b[1;33m.\u001b[0m\u001b[0m__init__\u001b[0m\u001b[1;33m(\u001b[0m\u001b[0mself\u001b[0m\u001b[1;33m,\u001b[0m \u001b[0m_AES\u001b[0m\u001b[1;33m,\u001b[0m \u001b[0mkey\u001b[0m\u001b[1;33m,\u001b[0m \u001b[1;33m*\u001b[0m\u001b[0margs\u001b[0m\u001b[1;33m,\u001b[0m \u001b[1;33m**\u001b[0m\u001b[0mkwargs\u001b[0m\u001b[1;33m)\u001b[0m\u001b[1;33m\u001b[0m\u001b[1;33m\u001b[0m\u001b[0m\n\u001b[0m\u001b[0;32m     60\u001b[0m \u001b[1;33m\u001b[0m\u001b[0m\n\u001b[0;32m     61\u001b[0m \u001b[1;32mdef\u001b[0m \u001b[0mnew\u001b[0m\u001b[1;33m(\u001b[0m\u001b[0mkey\u001b[0m\u001b[1;33m,\u001b[0m \u001b[1;33m*\u001b[0m\u001b[0margs\u001b[0m\u001b[1;33m,\u001b[0m \u001b[1;33m**\u001b[0m\u001b[0mkwargs\u001b[0m\u001b[1;33m)\u001b[0m\u001b[1;33m:\u001b[0m\u001b[1;33m\u001b[0m\u001b[1;33m\u001b[0m\u001b[0m\n",
      "\u001b[1;32mF:\\Anaconda\\lib\\site-packages\\Crypto\\Cipher\\blockalgo.py\u001b[0m in \u001b[0;36m__init__\u001b[1;34m(self, factory, key, *args, **kwargs)\u001b[0m\n\u001b[0;32m    139\u001b[0m \u001b[1;33m\u001b[0m\u001b[0m\n\u001b[0;32m    140\u001b[0m         \u001b[1;32mif\u001b[0m \u001b[0mself\u001b[0m\u001b[1;33m.\u001b[0m\u001b[0mmode\u001b[0m \u001b[1;33m!=\u001b[0m \u001b[0mMODE_OPENPGP\u001b[0m\u001b[1;33m:\u001b[0m\u001b[1;33m\u001b[0m\u001b[1;33m\u001b[0m\u001b[0m\n\u001b[1;32m--> 141\u001b[1;33m             \u001b[0mself\u001b[0m\u001b[1;33m.\u001b[0m\u001b[0m_cipher\u001b[0m \u001b[1;33m=\u001b[0m \u001b[0mfactory\u001b[0m\u001b[1;33m.\u001b[0m\u001b[0mnew\u001b[0m\u001b[1;33m(\u001b[0m\u001b[0mkey\u001b[0m\u001b[1;33m,\u001b[0m \u001b[1;33m*\u001b[0m\u001b[0margs\u001b[0m\u001b[1;33m,\u001b[0m \u001b[1;33m**\u001b[0m\u001b[0mkwargs\u001b[0m\u001b[1;33m)\u001b[0m\u001b[1;33m\u001b[0m\u001b[1;33m\u001b[0m\u001b[0m\n\u001b[0m\u001b[0;32m    142\u001b[0m             \u001b[0mself\u001b[0m\u001b[1;33m.\u001b[0m\u001b[0mIV\u001b[0m \u001b[1;33m=\u001b[0m \u001b[0mself\u001b[0m\u001b[1;33m.\u001b[0m\u001b[0m_cipher\u001b[0m\u001b[1;33m.\u001b[0m\u001b[0mIV\u001b[0m\u001b[1;33m\u001b[0m\u001b[1;33m\u001b[0m\u001b[0m\n\u001b[0;32m    143\u001b[0m         \u001b[1;32melse\u001b[0m\u001b[1;33m:\u001b[0m\u001b[1;33m\u001b[0m\u001b[1;33m\u001b[0m\u001b[0m\n",
      "\u001b[1;31mTypeError\u001b[0m: a bytes-like object is required, not 'NoneType'"
     ]
    }
   ],
   "source": [
    "#mały: 1-2MB\n",
    "#średni: 200-250MB\n",
    "#duży: 300-400MB\n",
    "\n",
    "MB = 1048576\n",
    "\n",
    "print(\"ECB elapsed time:\")\n",
    "analyze_time(\"ECB\",s,m,b)\n",
    "print(\"CBC elapsed time:\")\n",
    "analyze_time(\"CBC\",s,m,b)\n",
    "print(\"OFB elapsed time:\")\n",
    "analyze_time(\"OFB\",s,m,b)\n",
    "print(\"CFB elapsed time:\")\n",
    "analyze_time(\"CFB\",s,m,b)\n",
    "print(\"CTR elapsed time:\")\n",
    "analyze_time(\"CTR\",s,m,b)"
   ]
  },
  {
   "cell_type": "code",
   "execution_count": 4,
   "metadata": {},
   "outputs": [],
   "source": [
    "file = bin(43711)[2:]"
   ]
  },
  {
   "cell_type": "code",
   "execution_count": 224,
   "metadata": {},
   "outputs": [
    {
     "name": "stdout",
     "output_type": "stream",
     "text": [
      "Starting value: 1010101010111111\n",
      "Int value: 43711\n",
      "Bytes value: b'\\xff\\xfe1\\x000\\x001\\x000\\x001\\x000\\x001\\x000\\x001\\x000\\x001\\x001\\x001\\x001\\x001\\x001\\x00' \n",
      "\n",
      "Encrypted value:\n",
      "b'+3\\xa1\\xe5\\x9b\\x08f\\xc6\\xc3\\xfe\\xb7l47:\\xcb' \n",
      "\n",
      "Decrypted value: b'{a\\x87I#\\xb9\\xa5\\xdc\\xf2\\xdfb7\\x89\\xacn\\x7f'\n"
     ]
    }
   ],
   "source": [
    "from Crypto.Cipher import AES\n",
    "from Crypto.Random import get_random_bytes\n",
    "from Crypto.Util import Counter\n",
    "from base64 import b64decode\n",
    "from base64 import b64encode\n",
    "import random\n",
    "import string\n",
    "\n",
    "key = get_random_bytes(16)\n",
    "cipher = AES.new(key,AES.MODE_ECB)\n",
    "print(\"Starting value:\",file)\n",
    "print(\"Int value:\", int(file,2))\n",
    "print(\"Bytes value:\",bytes(file,'utf-16'),\"\\n\")\n",
    "encrypted = cipher.encrypt(file)\n",
    "print(\"Encrypted value:\")\n",
    "print(encrypted,\"\\n\")\n",
    "e = list(encrypted)\n",
    "e[0]+=1\n",
    "encrypted = bytes(e)\n",
    "decrypted = cipher.decrypt(encrypted)\n",
    "\n",
    "print(\"Decrypted value:\",decrypted)"
   ]
  },
  {
   "cell_type": "code",
   "execution_count": 225,
   "metadata": {},
   "outputs": [
    {
     "name": "stdout",
     "output_type": "stream",
     "text": [
      "Starting value: 1010101010111111\n",
      "Int value: 43711\n",
      "Bytes value: b'\\xff\\xfe1\\x000\\x001\\x000\\x001\\x000\\x001\\x000\\x001\\x000\\x001\\x001\\x001\\x001\\x001\\x001\\x00' \n",
      "\n",
      "Encrypted value:\n",
      "b'J=\\xec\\xde\\x88\\xa8\\x95\\x90\\x19Px|\\xc9\\xab|\\\\' \n",
      "\n",
      "Decrypted value: b'\\xfcR5\\x8e\\x83Ud\\xe1\\x18\\xd83\\xa0t\\x0b\\xe5f'\n"
     ]
    }
   ],
   "source": [
    "key = get_random_bytes(16)\n",
    "iv = get_random_bytes(16)\n",
    "cipher = AES.new(key,AES.MODE_CBC,iv)\n",
    "print(\"Starting value:\",file)\n",
    "print(\"Int value:\", int(file,2))\n",
    "print(\"Bytes value:\",bytes(file,'utf-16'),\"\\n\")\n",
    "encrypted = cipher.encrypt(file)\n",
    "print(\"Encrypted value:\")\n",
    "print(encrypted,\"\\n\")\n",
    "e = list(encrypted)\n",
    "e[0]+=1\n",
    "encrypted = bytes(e)\n",
    "decrypted = cipher.decrypt(encrypted)\n",
    "\n",
    "print(\"Decrypted value:\",decrypted)"
   ]
  },
  {
   "cell_type": "code",
   "execution_count": 227,
   "metadata": {},
   "outputs": [
    {
     "name": "stdout",
     "output_type": "stream",
     "text": [
      "Starting value: 1010101010111111\n",
      "Int value: 43711\n",
      "Bytes value: b'\\xff\\xfe1\\x000\\x001\\x000\\x001\\x000\\x001\\x000\\x001\\x000\\x001\\x001\\x001\\x001\\x001\\x001\\x00' \n",
      "\n",
      "Encrypted value:\n",
      "b\"\\xd6\\xd8\\x16\\x10l9\\xd4Wu\\x0b\\xe0'\\xb6a\\xbf\\x0c\" \n",
      "\n",
      "Decrypted value: b'\\xc5\\xf0G\\xd6H\\xc8\\xee\\xaes\\xb4\\xa3@\\xa2\\xf37\\xcf'\n"
     ]
    }
   ],
   "source": [
    "key = get_random_bytes(16)\n",
    "iv = get_random_bytes(16)\n",
    "cipher = AES.new(key,AES.MODE_OFB,iv)\n",
    "print(\"Starting value:\",file)\n",
    "print(\"Int value:\", int(file,2))\n",
    "print(\"Bytes value:\",bytes(file,'utf-16'),\"\\n\")\n",
    "encrypted = cipher.encrypt(file)\n",
    "print(\"Encrypted value:\")\n",
    "print(encrypted,\"\\n\")\n",
    "e = list(encrypted)\n",
    "e[0]+=1\n",
    "encrypted = bytes(e)\n",
    "decrypted = cipher.decrypt(encrypted)\n",
    "\n",
    "print(\"Decrypted value:\",decrypted)"
   ]
  },
  {
   "cell_type": "code",
   "execution_count": 5,
   "metadata": {},
   "outputs": [
    {
     "name": "stdout",
     "output_type": "stream",
     "text": [
      "Starting value: 1010101010111111\n",
      "Int value: 43711\n",
      "Bytes value: b'\\xff\\xfe1\\x000\\x001\\x000\\x001\\x000\\x001\\x000\\x001\\x000\\x001\\x001\\x001\\x001\\x001\\x001\\x00' \n",
      "\n",
      "Encrypted value:\n",
      "b'\\xfcs\\xd0&\\xd5F\\xc69\\x0cA\\x9ez0\\x02\\x82\\xce' \n",
      "\n",
      "b'\\xfds\\xd0&\\xd5F\\xc69\\x0cA\\x9ez0\\x02\\x82\\xce' \n",
      "\n",
      "Decrypted value: b\"WvB;?h\\xc4\\xe6>\\x93\\xddS'\\xe9'a\"\n"
     ]
    }
   ],
   "source": [
    "key = get_random_bytes(16)\n",
    "iv = get_random_bytes(16)\n",
    "cipher = AES.new(key,AES.MODE_CFB,iv)\n",
    "print(\"Starting value:\",file)\n",
    "print(\"Int value:\", int(file,2))\n",
    "print(\"Bytes value:\",bytes(file,'utf-16'),\"\\n\")\n",
    "encrypted = cipher.encrypt(file)\n",
    "print(\"Encrypted value:\")\n",
    "print(encrypted,\"\\n\")\n",
    "e = list(encrypted)\n",
    "e[0]+=1\n",
    "encrypted = bytes(e)\n",
    "print(encrypted,\"\\n\")\n",
    "decrypted = cipher.decrypt(encrypted)\n",
    "\n",
    "print(\"Decrypted value:\",decrypted)"
   ]
  },
  {
   "cell_type": "code",
   "execution_count": 244,
   "metadata": {},
   "outputs": [
    {
     "name": "stdout",
     "output_type": "stream",
     "text": [
      "Starting value: 1010101010111111\n",
      "Int value: 43711\n",
      "Bytes value: b'\\xff\\xfe1\\x000\\x001\\x000\\x001\\x000\\x001\\x000\\x001\\x000\\x001\\x001\\x001\\x001\\x001\\x001\\x00' \n",
      "\n",
      "Encrypted value:\n",
      "b'=|\\x12jt\\x81\\xe2\\xa5\\xfd\\xaaAR\\xdf\\xc5\\x94\\xb6' \n",
      "\n",
      "Decrypted value: b'2010101010111111'\n"
     ]
    }
   ],
   "source": [
    "key = get_random_bytes(16)\n",
    "iv = get_random_bytes(16)\n",
    "cipher = AES.new(key,AES.MODE_CTR,counter=lambda: key)\n",
    "print(\"Starting value:\",file)\n",
    "print(\"Int value:\", int(file,2))\n",
    "print(\"Bytes value:\",bytes(file,'utf-16'),\"\\n\")\n",
    "encrypted = cipher.encrypt(file)\n",
    "print(\"Encrypted value:\")\n",
    "print(encrypted,\"\\n\")\n",
    "e = list(encrypted)\n",
    "e[0]+=1\n",
    "encrypted = bytes(e)\n",
    "decrypted = cipher.decrypt(encrypted)\n",
    "\n",
    "print(\"Decrypted value:\",decrypted)"
   ]
  }
 ],
 "metadata": {
  "kernelspec": {
   "display_name": "Python 3",
   "language": "python",
   "name": "python3"
  },
  "language_info": {
   "codemirror_mode": {
    "name": "ipython",
    "version": 3
   },
   "file_extension": ".py",
   "mimetype": "text/x-python",
   "name": "python",
   "nbconvert_exporter": "python",
   "pygments_lexer": "ipython3",
   "version": "3.7.3"
  }
 },
 "nbformat": 4,
 "nbformat_minor": 2
}
