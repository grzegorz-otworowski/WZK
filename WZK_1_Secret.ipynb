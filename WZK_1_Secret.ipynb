{
 "cells": [
  {
   "cell_type": "markdown",
   "metadata": {},
   "source": [
    "# ZADANIE 1\n",
    "#### Podział i odtworzenie sekretu - metoda trywialna"
   ]
  },
  {
   "cell_type": "code",
   "execution_count": 361,
   "metadata": {},
   "outputs": [],
   "source": [
    "from random import seed\n",
    "from random import randint\n",
    "def trivial_secret(s,k,n):\n",
    "    \n",
    "    tab = []\n",
    "    print('Initial secret:',s, sep='\\n')\n",
    "\n",
    "    for _ in range(n-1):\n",
    "        value = randint(0,k)\n",
    "        s -= value\n",
    "        tab.append(value)\n",
    "    tab.append(s % k)\n",
    "    print('Fragments:',tab, sep='\\n')\n",
    "    sum = 0\n",
    "    for si in tab:\n",
    "        sum += si\n",
    "    recreated_s = sum % k\n",
    "    print('Recreated secret:',recreated_s, sep='\\n')"
   ]
  },
  {
   "cell_type": "code",
   "execution_count": 362,
   "metadata": {},
   "outputs": [
    {
     "name": "stdout",
     "output_type": "stream",
     "text": [
      "Initial secret:\n",
      "500\n",
      "Fragments:\n",
      "[472, 490, 263, 275]\n",
      "Recreated secret:\n",
      "500\n"
     ]
    }
   ],
   "source": [
    "trivial_secret(500,1000,4)"
   ]
  },
  {
   "cell_type": "markdown",
   "metadata": {},
   "source": [
    "#### Metoda nie jest bezpieczna dla wartości:\n",
    "* dla n < 3 - mając tylko dwa fragmenty możemy na podstawie jednego wywnioskować drugi i poznać sekret\n",
    "* dla małych k - przy nie wielkim k można by zwyczajnie \"strzelić\" sekret\n",
    "\n",
    "#### Podstawowe wady trywialnego podziału sekretu:\n",
    "* w momencie, gdy chcemy dla danego zbioru osób wyznaczyć mniejsze podzbiory, które są w stanie wyznaczyć sekret musimy tworzyć dodatkowe podziały - dla większych zbiorów podziałów może być dziesiątki jeśli nie setki tysięcy"
   ]
  },
  {
   "cell_type": "markdown",
   "metadata": {},
   "source": [
    "# ZADANIE 2\n",
    "#### Podział i odtworzenie sekretu - metoda zgodna ze schematem Shamira"
   ]
  },
  {
   "cell_type": "code",
   "execution_count": 2,
   "metadata": {},
   "outputs": [],
   "source": [
    "def find_inverted_modulo(l, m, p):\n",
    "    i = 1\n",
    "    while(True):\n",
    "        if(l * i % p == m):\n",
    "            return i\n",
    "        else:\n",
    "            i += 1"
   ]
  },
  {
   "cell_type": "code",
   "execution_count": 3,
   "metadata": {},
   "outputs": [],
   "source": [
    "def find_constant(x, y, p, reqShares):\n",
    "    sum = 0\n",
    "    for i in range (0, reqShares):\n",
    "        l = 1\n",
    "        m = 1\n",
    "        for j in range(0, reqShares):\n",
    "            if(i != j):\n",
    "                l = l * -x[j]\n",
    "                m = m * (x[i] - x[j])\n",
    "        if(y[i] * l / m < 0):\n",
    "            result = -(abs(y[i]) * find_inverted_modulo(abs(m), abs(l), p) % p)\n",
    "        else:\n",
    "            result = abs(y[i]) * find_inverted_modulo(abs(m), abs(l), p) % p\n",
    "        sum = sum + result\n",
    "    return sum"
   ]
  },
  {
   "cell_type": "code",
   "execution_count": 4,
   "metadata": {},
   "outputs": [],
   "source": [
    "import numpy as np\n",
    "from scipy.interpolate import lagrange\n",
    "from numpy.polynomial.polynomial import Polynomial\n",
    "from random import randint\n",
    "from math import ceil\n",
    "def shamir_secret(maxShares, reqShares, secret, p, maxRange = 1000):\n",
    "    coef = []\n",
    "    shares = []\n",
    "    x_points = []\n",
    "    \n",
    "    print('Initial secret:', secret, sep='\\n')\n",
    "\n",
    "    for _ in range(reqShares-1):\n",
    "        value = randint(0,maxRange)\n",
    "        coef.append(value)\n",
    "        \n",
    "    print('Coefficients:', coef, sep='\\n')\n",
    "    \n",
    "    for x in range(1,maxShares+1):\n",
    "        sum = secret\n",
    "        power = 1\n",
    "        for c in coef:\n",
    "            sum += c*x**power\n",
    "            power+=1\n",
    "        x_points.append(x)\n",
    "        shares.append(sum%p)\n",
    "        \n",
    "    print('Shares', shares, sep='\\n')\n",
    "    while (len(shares) != reqShares):\n",
    "        i = randint(0,len(shares)-1)\n",
    "        x_points.pop(i)\n",
    "        shares.pop(i)\n",
    "        \n",
    "    print('Coordinates:')\n",
    "    for i in range(0,reqShares):\n",
    "        print('(',x_points[i],',',shares[i],')')\n",
    "        \n",
    "    constant = find_constant(x_points, shares, p, reqShares)\n",
    "    \n",
    "    print('Constant term:',constant,sep='\\n')\n",
    "    a = constant\n",
    "    \n",
    "    print('Calculating secret:')\n",
    "    print(a,'%',p,'=',a%p)\n",
    "    secret = a % p\n",
    "    \n",
    "    print('Recreated secret:', secret, sep='\\n')\n",
    "    "
   ]
  },
  {
   "cell_type": "code",
   "execution_count": 15,
   "metadata": {
    "scrolled": true
   },
   "outputs": [
    {
     "name": "stdout",
     "output_type": "stream",
     "text": [
      "Initial secret:\n",
      "954\n",
      "Coefficients:\n",
      "[975, 356]\n",
      "Shares\n",
      "[762, 1282, 991, 1412]\n",
      "Coordinates:\n",
      "( 2 , 1282 )\n",
      "( 3 , 991 )\n",
      "( 4 , 1412 )\n",
      "Constant term:\n",
      "954\n",
      "Calculating secret:\n",
      "954 % 1523 = 954\n",
      "Recreated secret:\n",
      "954\n"
     ]
    }
   ],
   "source": [
    "shamir_secret(4,3,954,1523)"
   ]
  },
  {
   "cell_type": "markdown",
   "metadata": {},
   "source": [
    "Minimalna liczba udziałów potrzebna do działania algorytmu to 2."
   ]
  }
 ],
 "metadata": {
  "kernelspec": {
   "display_name": "Python 3",
   "language": "python",
   "name": "python3"
  },
  "language_info": {
   "codemirror_mode": {
    "name": "ipython",
    "version": 3
   },
   "file_extension": ".py",
   "mimetype": "text/x-python",
   "name": "python",
   "nbconvert_exporter": "python",
   "pygments_lexer": "ipython3",
   "version": "3.7.3"
  }
 },
 "nbformat": 4,
 "nbformat_minor": 2
}
