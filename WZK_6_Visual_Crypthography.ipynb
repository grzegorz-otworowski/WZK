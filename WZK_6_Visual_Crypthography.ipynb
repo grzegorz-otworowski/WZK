{
 "cells": [
  {
   "cell_type": "markdown",
   "metadata": {},
   "source": [
    "### Kryptografia wizualna"
   ]
  },
  {
   "cell_type": "code",
   "execution_count": 2,
   "metadata": {},
   "outputs": [],
   "source": [
    "from PIL import Image, ImageDraw\n",
    "import os\n",
    "import sys\n",
    "from random import SystemRandom\n",
    "\n",
    "random = SystemRandom()\n",
    "xrange = range\n",
    "\n",
    "img = Image.open(\"dummyText.png\")\n",
    "\n",
    "file_A = \"A.png\"\n",
    "file_B = \"B.png\"\n",
    "\n",
    "img = img.convert('1')\n",
    "\n",
    "width = img.size[0]*2\n",
    "height = img.size[1]\n",
    "\n",
    "img_A = Image.new('1', (width, height))\n",
    "img_B = Image.new('1', (width, height))\n",
    "\n",
    "draw_A = ImageDraw.Draw(img_A)\n",
    "draw_B = ImageDraw.Draw(img_B)\n",
    "\n",
    "C = ((0, 1), (1, 0))\n",
    "\n",
    "for x in xrange(0, int(width/2)):\n",
    "    for y in xrange(0, int(height)):\n",
    "        pixel = img.getpixel((x, y))\n",
    "        pat = random.choice(C)\n",
    "        \n",
    "        draw_A.point((x*2, y), pat[0])\n",
    "        draw_A.point((x*2+1, y), pat[1])\n",
    "        if pixel == 0:\n",
    "            draw_B.point((x*2, y), 1-pat[0])\n",
    "            draw_B.point((x*2+1, y), 1-pat[1])\n",
    "        else:\n",
    "            draw_B.point((x*2, y), pat[0])\n",
    "            draw_B.point((x*2+1, y), pat[1])\n",
    "\n",
    "img_A.save(file_A, 'PNG')\n",
    "img_B.save(file_B, 'PNG')\n",
    "\n",
    "img_A = img_A.convert(\"L\")\n",
    "img_B = img_B.convert(\"L\")\n",
    "\n",
    "img_res = Image.blend(img_A, img_B, 0.5)\n",
    "img_res.save(\"result.png\",\"PNG\")\n",
    "\n",
    "img.show()\n",
    "img_A.show()\n",
    "img_B.show()\n",
    "img_res.show()"
   ]
  }
 ],
 "metadata": {
  "kernelspec": {
   "display_name": "Python 3",
   "language": "python",
   "name": "python3"
  },
  "language_info": {
   "codemirror_mode": {
    "name": "ipython",
    "version": 3
   },
   "file_extension": ".py",
   "mimetype": "text/x-python",
   "name": "python",
   "nbconvert_exporter": "python",
   "pygments_lexer": "ipython3",
   "version": "3.7.3"
  }
 },
 "nbformat": 4,
 "nbformat_minor": 2
}
