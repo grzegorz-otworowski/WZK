{
 "cells": [
  {
   "cell_type": "markdown",
   "metadata": {},
   "source": [
    "### Import funkcji"
   ]
  },
  {
   "cell_type": "code",
   "execution_count": 1,
   "metadata": {},
   "outputs": [],
   "source": [
    "from random import randint\n",
    "from sympy import randprime\n",
    "from sympy import isprime\n",
    "from Crypto.Random import get_random_bytes"
   ]
  },
  {
   "cell_type": "markdown",
   "metadata": {},
   "source": [
    "### Zmienne globalne"
   ]
  },
  {
   "cell_type": "code",
   "execution_count": 2,
   "metadata": {},
   "outputs": [],
   "source": [
    "MIN_N = 10**3\n",
    "MAX_N = 10**4-1"
   ]
  },
  {
   "cell_type": "markdown",
   "metadata": {},
   "source": [
    "### (F) Generacja klucza"
   ]
  },
  {
   "cell_type": "code",
   "execution_count": 3,
   "metadata": {},
   "outputs": [],
   "source": [
    "def nwd(a, b):\n",
    "    if b > 0:\n",
    "        return nwd(b, a%b)\n",
    "    return a"
   ]
  },
  {
   "cell_type": "code",
   "execution_count": 4,
   "metadata": {},
   "outputs": [],
   "source": [
    "def comprime_gen(x):\n",
    "    while True:\n",
    "        y = randint(MIN_N,MAX_N)\n",
    "        d = nwd(x,y)\n",
    "        if d==1:\n",
    "            break\n",
    "    return y;"
   ]
  },
  {
   "cell_type": "code",
   "execution_count": 5,
   "metadata": {},
   "outputs": [],
   "source": [
    "def generate_key():\n",
    "    p = randprime(MIN_N, MAX_N)\n",
    "    q = randprime(MIN_N, MAX_N)\n",
    "    \n",
    "    n = p * q\n",
    "    \n",
    "    phi = (p-1)*(q-1)\n",
    "    print(phi)\n",
    "    e = comprime_gen(phi)\n",
    "    print(e)\n",
    "    d = 0 \n",
    "    while(True):\n",
    "        d += 1\n",
    "        if((e * d - 1) % phi == 0):\n",
    "            break\n",
    "    \n",
    "    print(\"Dane z etapu generacji klucza:\")\n",
    "    print(\"p =\",p,\"\\nq =\",q,\"\\nx =\",n,\"\\nphi =\",phi,\"\\ne =\",e,\"\\nd =\",d)\n",
    "    \n",
    "    return e, d, n"
   ]
  },
  {
   "cell_type": "markdown",
   "metadata": {},
   "source": [
    "### (F) Szyfrowanie i deszyfrowanie"
   ]
  },
  {
   "cell_type": "code",
   "execution_count": 6,
   "metadata": {},
   "outputs": [],
   "source": [
    "def encrypt(e, n, m):\n",
    "    c = []\n",
    "    for b in m:\n",
    "        c.append(b ** e % n)\n",
    "    return c"
   ]
  },
  {
   "cell_type": "code",
   "execution_count": 7,
   "metadata": {},
   "outputs": [],
   "source": [
    "def decrypt(d, n, c):\n",
    "    m = []\n",
    "    for b in c:\n",
    "        m.append(b ** d % n)\n",
    "    return m"
   ]
  },
  {
   "cell_type": "markdown",
   "metadata": {},
   "source": [
    "### (F) RHS"
   ]
  },
  {
   "cell_type": "code",
   "execution_count": 8,
   "metadata": {},
   "outputs": [],
   "source": [
    "def RHS(s):\n",
    "    #generowanie klucza\n",
    "    e, d, n = generate_key()\n",
    "    \n",
    "    m = s.encode('utf-8')\n",
    "    \n",
    "    print(\"Wiadomość jawna: \\nm =\", s)\n",
    "    c = encrypt(e, n, m)\n",
    "    print(\"Wiadomość zaszyfrowana: \\nc =\", c)\n",
    "    M = decrypt(d, n, c)\n",
    "    M = bytes(M).decode('utf-8')  \n",
    "    print(\"Wiadomość odszyfrowana: \\nM =\", M)"
   ]
  },
  {
   "cell_type": "code",
   "execution_count": 9,
   "metadata": {
    "scrolled": false
   },
   "outputs": [
    {
     "name": "stdout",
     "output_type": "stream",
     "text": [
      "17981676\n",
      "8803\n",
      "Dane z etapu generacji klucza:\n",
      "p = 2287 \n",
      "q = 7867 \n",
      "x = 17991829 \n",
      "phi = 17981676 \n",
      "e = 8803 \n",
      "d = 958015\n",
      "Wiadomość jawna: \n",
      "m = Lorem ipsum dolor sit amet, consectetur adipiscing\n",
      "Wiadomość zaszyfrowana: \n",
      "c = [16921733, 13497802, 2117365, 8326901, 17570356, 7219042, 2669995, 16218785, 6453207, 11773417, 17570356, 7219042, 5815380, 13497802, 8651073, 13497802, 2117365, 7219042, 6453207, 2669995, 3722339, 7219042, 7276918, 17570356, 8326901, 3722339, 419655, 7219042, 7206158, 13497802, 16014734, 6453207, 8326901, 7206158, 3722339, 8326901, 3722339, 11773417, 2117365, 7219042, 7276918, 5815380, 2669995, 16218785, 2669995, 6453207, 7206158, 2669995, 16014734, 265366]\n",
      "Wiadomość odszyfrowana: \n",
      "M = Lorem ipsum dolor sit amet, consectetur adipiscing\n"
     ]
    }
   ],
   "source": [
    "string = \"Lorem ipsum dolor sit amet, consectetur adipiscing\"\n",
    "RHS(string)"
   ]
  }
 ],
 "metadata": {
  "kernelspec": {
   "display_name": "Python 3",
   "language": "python",
   "name": "python3"
  },
  "language_info": {
   "codemirror_mode": {
    "name": "ipython",
    "version": 3
   },
   "file_extension": ".py",
   "mimetype": "text/x-python",
   "name": "python",
   "nbconvert_exporter": "python",
   "pygments_lexer": "ipython3",
   "version": "3.7.3"
  }
 },
 "nbformat": 4,
 "nbformat_minor": 2
}
