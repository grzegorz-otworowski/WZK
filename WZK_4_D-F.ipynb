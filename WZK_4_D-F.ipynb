{
 "cells": [
  {
   "cell_type": "markdown",
   "metadata": {},
   "source": [
    "### Import funkcji"
   ]
  },
  {
   "cell_type": "code",
   "execution_count": 11,
   "metadata": {},
   "outputs": [],
   "source": [
    "from random import randint\n",
    "from sympy import randprime\n",
    "from sympy import isprime\n",
    "from math import sqrt"
   ]
  },
  {
   "cell_type": "markdown",
   "metadata": {},
   "source": [
    "### Zmienne globalne"
   ]
  },
  {
   "cell_type": "code",
   "execution_count": 12,
   "metadata": {},
   "outputs": [],
   "source": [
    "MIN_PR = 10**3\n",
    "MIN_N = 10**4\n",
    "MAX_N = 10**6"
   ]
  },
  {
   "cell_type": "markdown",
   "metadata": {},
   "source": [
    "### (F) Prymitywne pierwiastki"
   ]
  },
  {
   "cell_type": "code",
   "execution_count": 13,
   "metadata": {},
   "outputs": [],
   "source": [
    "def gcd(a,b):\n",
    "    while b != 0:\n",
    "        a, b = b, a % b\n",
    "    return a"
   ]
  },
  {
   "cell_type": "code",
   "execution_count": 14,
   "metadata": {},
   "outputs": [],
   "source": [
    "def power(x, y, p):  \n",
    "    res = 1\n",
    "    x = x % p\n",
    "    while (y > 0):  \n",
    "        if (y & 1): \n",
    "            res = (res * x) % p  \n",
    "        y = y >> 1 \n",
    "        x = (x * x) % p  \n",
    "    return res  "
   ]
  },
  {
   "cell_type": "code",
   "execution_count": 15,
   "metadata": {},
   "outputs": [],
   "source": [
    "def findPrimefactors(s, n): \n",
    "    while (n % 2 == 0): \n",
    "        s.add(2)  \n",
    "        n = n // 2\n",
    "    for i in range(3, int(sqrt(n)), 2): \n",
    "        while (n % i == 0): \n",
    "            s.add(i)  \n",
    "            n = n // i  \n",
    "    if (n > 2): \n",
    "        s.add(n)  "
   ]
  },
  {
   "cell_type": "code",
   "execution_count": 16,
   "metadata": {},
   "outputs": [],
   "source": [
    "def findPrimitive(n): \n",
    "    s = set()  \n",
    "    if (isprime(n) == False):  \n",
    "        return -1\n",
    "    phi = n - 1\n",
    "    findPrimefactors(s, phi)  \n",
    "    rand = randint(MIN_PR, MIN_N)\n",
    "    for r in range(rand, phi + 1):  \n",
    "        flag = False\n",
    "        for it in s:  \n",
    "            if (power(r, phi // it, n) == 1):  \n",
    "                flag = True\n",
    "                break\n",
    "        if (flag == False): \n",
    "            return r\n",
    "    return -1"
   ]
  },
  {
   "cell_type": "markdown",
   "metadata": {},
   "source": [
    "### (F) Diffiego-Hellmana"
   ]
  },
  {
   "cell_type": "code",
   "execution_count": 17,
   "metadata": {},
   "outputs": [],
   "source": [
    "def DH():\n",
    "    #A i B\n",
    "    n = randprime(MIN_N,MAX_N)\n",
    "    g = findPrimitive(n)\n",
    "    #A\n",
    "    x = randint(MIN_N,MAX_N)\n",
    "    X = g ** x % n\n",
    "    #B\n",
    "    y = randint(MIN_N,MAX_N)\n",
    "    Y = g ** y % n\n",
    "    #A\n",
    "    kA = Y ** x % n\n",
    "    #B\n",
    "    kB = X ** y % n\n",
    "    \n",
    "    print(\"n =\",n,\"\\ng =\",g,\"\\nx =\",x,\"\\nX =\",X,\"\\ny =\",y,\"\\nY =\",Y)\n",
    "    \n",
    "    if(kA == kB):\n",
    "        print(\"Klucz sesji k jest równy:\",kA)\n",
    "    else:\n",
    "        print(\"Klucze sesji k dla A i B są różne - błąd generacji klucza.\\n\",kA,\"!=\",kB)"
   ]
  },
  {
   "cell_type": "code",
   "execution_count": 18,
   "metadata": {},
   "outputs": [
    {
     "name": "stdout",
     "output_type": "stream",
     "text": [
      "n = 502277 \n",
      "g = 2828 \n",
      "x = 860260 \n",
      "X = 445067 \n",
      "y = 408922 \n",
      "Y = 111103\n",
      "Klucz sesji k jest równy: 434931\n"
     ]
    }
   ],
   "source": [
    "DH()"
   ]
  }
 ],
 "metadata": {
  "kernelspec": {
   "display_name": "Python 3",
   "language": "python",
   "name": "python3"
  },
  "language_info": {
   "codemirror_mode": {
    "name": "ipython",
    "version": 3
   },
   "file_extension": ".py",
   "mimetype": "text/x-python",
   "name": "python",
   "nbconvert_exporter": "python",
   "pygments_lexer": "ipython3",
   "version": "3.7.3"
  }
 },
 "nbformat": 4,
 "nbformat_minor": 2
}
